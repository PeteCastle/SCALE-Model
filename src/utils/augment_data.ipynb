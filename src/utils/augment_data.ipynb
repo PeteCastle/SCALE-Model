{
 "cells": [
  {
   "cell_type": "code",
   "execution_count": 52,
   "metadata": {},
   "outputs": [],
   "source": [
    "from imgaug import augmenters as iaa\n",
    "import imageio\n",
    "import glob\n",
    "import os\n",
    "from PIL import Image\n",
    "from sklearn.model_selection import train_test_split\n"
   ]
  },
  {
   "cell_type": "code",
   "execution_count": 49,
   "metadata": {},
   "outputs": [
    {
     "data": {
      "text/plain": [
       "['07be064a-cfa3-4a19-bd75-90d14c9c73ab-large16x9_GettyImages147427333.webp',\n",
       " '61otPTj65IL.jpg',\n",
       " '9ba895fb-82b8-473e-af62-ddddf03bbe01-large16x9_YASI_MOSQUITOSANDDISPATCHER_0009_frame_112.webp',\n",
       " 'a-large-number-of-dead-mosquitoes-on-a-white-background-photo.jpg',\n",
       " 'Capture.PNG',\n",
       " 'Capture11.PNG',\n",
       " 'download.jpg',\n",
       " 'flying-mosquitoes-isolated-white-background-192252938.webp',\n",
       " 'gettyimages-985159096-612x612.jpg',\n",
       " 'hehe.png',\n",
       " 'images.jpg',\n",
       " 'iStock-1251354358-678x381.jpg',\n",
       " 'istockphoto-578830760-612x612.jpg',\n",
       " 'Kelly_image3Vector-Sample72.jpg',\n",
       " 'methods-for-trapping-mosquitoes.jpg',\n",
       " 'mNgfD4IsBeCf6nw8cCGwkRnrifAB6JMSE985Kjj2kMQ.webp',\n",
       " 'mosquito-like-bug-in-my-cabin-v0-48b10eqs1b7c1.webp',\n",
       " 'mosquito-like-bug-in-my-cabin-v0-q80vxcqs1b7c1.webp',\n",
       " 'MosquitoLab-1-800.jpg',\n",
       " 'what-flying-insect-is-this-v0-epypfo5vz3uc1.webp']"
      ]
     },
     "execution_count": 49,
     "metadata": {},
     "output_type": "execute_result"
    }
   ],
   "source": [
    "files = os.listdir(\"raw_data\")\n",
    "files"
   ]
  },
  {
   "cell_type": "code",
   "execution_count": 50,
   "metadata": {},
   "outputs": [],
   "source": [
    "aug = iaa.Sequential([\n",
    "    iaa.Sometimes(0.5, iaa.Resize((0.7, 0.9))),\n",
    "    iaa.Fliplr(0.5), # horizontal flips\n",
    "    iaa.Flipud(0.5), # vertical flips\n",
    "    iaa.Crop(percent=(0, 0.1)), # random crops\n",
    "    iaa.Sometimes(0.3, iaa.GaussianBlur(sigma=(0, 0.15))),\n",
    "    iaa.Sometimes(0.5, iaa.Multiply((0.6, 1.0), per_channel=0.2)),\n",
    "    iaa.Sometimes(0.5, iaa.ContrastNormalization((0.25, 1))), # Change contrast\n",
    "    # iaa.Sometimes(0.5, iaa.Add((-5, 5), per_channel=0.25)), # Change brightness\n",
    "    iaa.Sometimes(0.5, iaa.AdditiveGaussianNoise(loc=0, scale=(0.0, 0.005*255), per_channel=0.4)),\n",
    "    \n",
    "    \n",
    "], random_order=True)"
   ]
  },
  {
   "cell_type": "code",
   "execution_count": 53,
   "metadata": {},
   "outputs": [
    {
     "name": "stderr",
     "output_type": "stream",
     "text": [
      "C:\\Users\\Francis Mark Cayco\\AppData\\Local\\Temp\\ipykernel_18604\\3175914324.py:2: DeprecationWarning: Starting with ImageIO v3 the behavior of this function will switch to that of iio.v3.imread. To keep the current behavior (and make this warning disappear) use `import imageio.v2 as imageio` or call `imageio.v2.imread` directly.\n",
      "  images = [imageio.imread(file) for file in glob.glob(\"raw_data/*\")]\n"
     ]
    }
   ],
   "source": [
    "\n",
    "\n",
    "# Load your images\n",
    "images = [imageio.imread(file) for file in glob.glob(\"raw_data/*\")]\n",
    "\n",
    "# Augment your images\n",
    "num_augmented_versions = 15\n",
    "\n",
    "augmented_images = []\n",
    "for i, image in enumerate(images):\n",
    "    for j in range(num_augmented_versions):\n",
    "        # Apply the augmentation pipeline to the image\n",
    "        image_aug = aug(image=image)\n",
    "\n",
    "        # Convert the image to RGB if it's RGBA\n",
    "        image_aug = Image.fromarray(image_aug)\n",
    "        if image_aug.mode == 'RGBA':\n",
    "            image_aug = image_aug.convert('RGB')\n",
    "\n",
    "        # Save the augmented image\n",
    "        filename = f'image_{i}_{j}.jpg'\n",
    "        imageio.imsave(os.path.join('augmented_data', filename), image_aug)\n",
    "        augmented_images.append(filename)"
   ]
  },
  {
   "cell_type": "code",
   "execution_count": 55,
   "metadata": {},
   "outputs": [],
   "source": [
    "train_images, test_images = train_test_split(augmented_images, test_size=0.3)\n",
    "for image in train_images:\n",
    "    os.rename(os.path.join('augmented_data', image), os.path.join('augmented_data/train', image))\n",
    "for image in test_images:\n",
    "    os.rename(os.path.join('augmented_data', image), os.path.join('augmented_data/test', image))"
   ]
  }
 ],
 "metadata": {
  "kernelspec": {
   "display_name": "mosquito_env_cuda",
   "language": "python",
   "name": "python3"
  },
  "language_info": {
   "codemirror_mode": {
    "name": "ipython",
    "version": 3
   },
   "file_extension": ".py",
   "mimetype": "text/x-python",
   "name": "python",
   "nbconvert_exporter": "python",
   "pygments_lexer": "ipython3",
   "version": "3.10.14"
  }
 },
 "nbformat": 4,
 "nbformat_minor": 2
}
